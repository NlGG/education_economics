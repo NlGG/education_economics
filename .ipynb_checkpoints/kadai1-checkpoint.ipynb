{
 "cells": [
  {
   "cell_type": "code",
   "execution_count": 2,
   "metadata": {
    "collapsed": true
   },
   "outputs": [],
   "source": [
    "# -*- coding: utf-8 -*-"
   ]
  },
  {
   "cell_type": "code",
   "execution_count": 3,
   "metadata": {
    "collapsed": true
   },
   "outputs": [],
   "source": [
    "%matplotlib inline"
   ]
  },
  {
   "cell_type": "code",
   "execution_count": 4,
   "metadata": {
    "collapsed": true
   },
   "outputs": [],
   "source": [
    "import numpy as np\n",
    "import matplotlib.pyplot as plt\n",
    "import pandas as pd\n",
    "import statsmodels.formula.api as sm\n",
    "import math"
   ]
  },
  {
   "cell_type": "markdown",
   "metadata": {},
   "source": [
    "添付したファイルのデータを用いて大学進学者(率)あるいは志願者(率)に関する時系列の回帰\n",
    "分析を行い、進学選択行動に与える要因を分析し，レポートする。"
   ]
  },
  {
   "cell_type": "markdown",
   "metadata": {},
   "source": [
    "（１）与えられたデータの変数の調査主体と名称は添付ファイル（回帰データ15.xls）の変数リストにある（例\n",
    "文\n",
    "部科学省「学校基本調査」）。このデータの特性について、インターネット等で調べて、簡単に記述する。そ\n",
    "して、その特性（単位，調査方法など）が、以下の分析でどのように結果に影響するか、留意する。"
   ]
  },
  {
   "cell_type": "markdown",
   "metadata": {},
   "source": [
    "<p>\n",
    "・大学（学部）・短期大学（本科）への進学率（過年度高卒者等を含む）：大学学部・短期大学本科入学者数（過年度高卒者等を含む。）を３年前の中学校卒業者及び中等教育学校前期課程修了者数で除した比率</p>"
   ]
  },
  {
   "cell_type": "markdown",
   "metadata": {},
   "source": [
    "（２）与えられたデータから、いくつかの説明変数と被説明変数を選択し、なぜ、その変数を選んだか、簡単に理\n",
    "由を述べる。最大値や最大値をチェックし、はずれ値のチェックをする。"
   ]
  },
  {
   "cell_type": "markdown",
   "metadata": {},
   "source": [
    "<p>非説明変数に大学進学率を、説明変数に短大進学率、GDP, 高校卒業者数、高校進学率、大学志願者数を用いる。</p>\n",
    "<p>短大進学率：進学する際に、大学進学とともに考えられる選択肢だからである。</p>\n",
    "<p>GDP：経済的余裕は金銭負担の大きい大学進学と密接な関係があると思われるからである。</p>\n",
    "<p>高校卒業者数：大学進学の前段階としての高校卒業者数にもっとも影響を受けると推測したからである。</p>\n",
    "<p>高校進学率：高校生のドロップアウトが多ければ、大学進学予備軍の潜在的な現象を招いている可能性が高い。進学率は卒業率と対比して考察するためである。</p>\n",
    "<p>大学進学志願数：卒業者が必ず大学進学を志願するとは限らないので、志願率も説明変数に取る。</p>\n",
    "<p>なお新たに中学校卒業者数（JSP）も表に加えた。なぜなら高校進学率に掛ければ高校進学者数を、ついで高校卒業者数を進学率で割れば高校卒業率も得られるからである。</p>"
   ]
  },
  {
   "cell_type": "code",
   "execution_count": 5,
   "metadata": {
    "collapsed": false
   },
   "outputs": [
    {
     "data": {
      "text/html": [
       "<div>\n",
       "<table border=\"1\" class=\"dataframe\">\n",
       "  <thead>\n",
       "    <tr style=\"text-align: right;\">\n",
       "      <th></th>\n",
       "      <th>Unnamed: 0</th>\n",
       "      <th>DEP</th>\n",
       "      <th>MDEP</th>\n",
       "      <th>FDEP</th>\n",
       "      <th>TEP</th>\n",
       "      <th>MTEP</th>\n",
       "      <th>FTEP</th>\n",
       "      <th>HSP</th>\n",
       "      <th>GDP(GNP)</th>\n",
       "      <th>HSPR</th>\n",
       "      <th>JSP</th>\n",
       "      <th>DS</th>\n",
       "    </tr>\n",
       "  </thead>\n",
       "  <tbody>\n",
       "    <tr>\n",
       "      <th>0</th>\n",
       "      <td>1990</td>\n",
       "      <td>24.6</td>\n",
       "      <td>33.4</td>\n",
       "      <td>15.2</td>\n",
       "      <td>11.7</td>\n",
       "      <td>1.7</td>\n",
       "      <td>22.2</td>\n",
       "      <td>1766917</td>\n",
       "      <td>451683</td>\n",
       "      <td>95</td>\n",
       "      <td>1981503</td>\n",
       "      <td>430542</td>\n",
       "    </tr>\n",
       "    <tr>\n",
       "      <th>1</th>\n",
       "      <td>1991</td>\n",
       "      <td>25.5</td>\n",
       "      <td>34.5</td>\n",
       "      <td>16.1</td>\n",
       "      <td>12.2</td>\n",
       "      <td>1.8</td>\n",
       "      <td>23.1</td>\n",
       "      <td>1803221</td>\n",
       "      <td>473608</td>\n",
       "      <td>95</td>\n",
       "      <td>1860300</td>\n",
       "      <td>455855</td>\n",
       "    </tr>\n",
       "    <tr>\n",
       "      <th>2</th>\n",
       "      <td>1992</td>\n",
       "      <td>26.4</td>\n",
       "      <td>35.2</td>\n",
       "      <td>17.3</td>\n",
       "      <td>12.4</td>\n",
       "      <td>1.8</td>\n",
       "      <td>23.5</td>\n",
       "      <td>1807175</td>\n",
       "      <td>483256</td>\n",
       "      <td>96</td>\n",
       "      <td>1773712</td>\n",
       "      <td>472098</td>\n",
       "    </tr>\n",
       "    <tr>\n",
       "      <th>3</th>\n",
       "      <td>1993</td>\n",
       "      <td>28.0</td>\n",
       "      <td>36.6</td>\n",
       "      <td>19.0</td>\n",
       "      <td>12.9</td>\n",
       "      <td>1.9</td>\n",
       "      <td>24.4</td>\n",
       "      <td>1755338</td>\n",
       "      <td>482608</td>\n",
       "      <td>96</td>\n",
       "      <td>1732437</td>\n",
       "      <td>512712</td>\n",
       "    </tr>\n",
       "    <tr>\n",
       "      <th>4</th>\n",
       "      <td>1994</td>\n",
       "      <td>30.1</td>\n",
       "      <td>38.9</td>\n",
       "      <td>21.0</td>\n",
       "      <td>13.2</td>\n",
       "      <td>2.0</td>\n",
       "      <td>24.9</td>\n",
       "      <td>1658949</td>\n",
       "      <td>495612</td>\n",
       "      <td>97</td>\n",
       "      <td>1680006</td>\n",
       "      <td>531177</td>\n",
       "    </tr>\n",
       "    <tr>\n",
       "      <th>5</th>\n",
       "      <td>1995</td>\n",
       "      <td>32.1</td>\n",
       "      <td>40.7</td>\n",
       "      <td>22.9</td>\n",
       "      <td>13.1</td>\n",
       "      <td>2.1</td>\n",
       "      <td>24.6</td>\n",
       "      <td>1590720</td>\n",
       "      <td>504594</td>\n",
       "      <td>97</td>\n",
       "      <td>1622198</td>\n",
       "      <td>557400</td>\n",
       "    </tr>\n",
       "    <tr>\n",
       "      <th>6</th>\n",
       "      <td>1996</td>\n",
       "      <td>33.4</td>\n",
       "      <td>41.9</td>\n",
       "      <td>24.6</td>\n",
       "      <td>12.7</td>\n",
       "      <td>2.3</td>\n",
       "      <td>23.7</td>\n",
       "      <td>1554549</td>\n",
       "      <td>515944</td>\n",
       "      <td>97</td>\n",
       "      <td>1545270</td>\n",
       "      <td>574115</td>\n",
       "    </tr>\n",
       "    <tr>\n",
       "      <th>7</th>\n",
       "      <td>1997</td>\n",
       "      <td>34.9</td>\n",
       "      <td>43.4</td>\n",
       "      <td>26.0</td>\n",
       "      <td>12.4</td>\n",
       "      <td>2.3</td>\n",
       "      <td>22.9</td>\n",
       "      <td>1503748</td>\n",
       "      <td>521295</td>\n",
       "      <td>97</td>\n",
       "      <td>1510994</td>\n",
       "      <td>599962</td>\n",
       "    </tr>\n",
       "    <tr>\n",
       "      <th>8</th>\n",
       "      <td>1998</td>\n",
       "      <td>36.4</td>\n",
       "      <td>44.9</td>\n",
       "      <td>27.5</td>\n",
       "      <td>11.8</td>\n",
       "      <td>2.2</td>\n",
       "      <td>21.9</td>\n",
       "      <td>1441061</td>\n",
       "      <td>510919</td>\n",
       "      <td>97</td>\n",
       "      <td>1511845</td>\n",
       "      <td>597271</td>\n",
       "    </tr>\n",
       "    <tr>\n",
       "      <th>9</th>\n",
       "      <td>1999</td>\n",
       "      <td>38.2</td>\n",
       "      <td>46.5</td>\n",
       "      <td>29.4</td>\n",
       "      <td>10.9</td>\n",
       "      <td>2.1</td>\n",
       "      <td>20.2</td>\n",
       "      <td>1362682</td>\n",
       "      <td>506599</td>\n",
       "      <td>97</td>\n",
       "      <td>1502711</td>\n",
       "      <td>580064</td>\n",
       "    </tr>\n",
       "    <tr>\n",
       "      <th>10</th>\n",
       "      <td>2000</td>\n",
       "      <td>39.7</td>\n",
       "      <td>47.5</td>\n",
       "      <td>31.5</td>\n",
       "      <td>9.4</td>\n",
       "      <td>1.9</td>\n",
       "      <td>17.2</td>\n",
       "      <td>1328902</td>\n",
       "      <td>510835</td>\n",
       "      <td>97</td>\n",
       "      <td>1464760</td>\n",
       "      <td>581958</td>\n",
       "    </tr>\n",
       "    <tr>\n",
       "      <th>11</th>\n",
       "      <td>2001</td>\n",
       "      <td>39.9</td>\n",
       "      <td>46.9</td>\n",
       "      <td>32.7</td>\n",
       "      <td>8.6</td>\n",
       "      <td>1.8</td>\n",
       "      <td>15.8</td>\n",
       "      <td>1326844</td>\n",
       "      <td>501711</td>\n",
       "      <td>97</td>\n",
       "      <td>1410403</td>\n",
       "      <td>590892</td>\n",
       "    </tr>\n",
       "    <tr>\n",
       "      <th>12</th>\n",
       "      <td>2002</td>\n",
       "      <td>40.5</td>\n",
       "      <td>47.0</td>\n",
       "      <td>33.8</td>\n",
       "      <td>8.1</td>\n",
       "      <td>1.8</td>\n",
       "      <td>14.7</td>\n",
       "      <td>1314809</td>\n",
       "      <td>498009</td>\n",
       "      <td>97</td>\n",
       "      <td>1365471</td>\n",
       "      <td>602090</td>\n",
       "    </tr>\n",
       "    <tr>\n",
       "      <th>13</th>\n",
       "      <td>2003</td>\n",
       "      <td>41.3</td>\n",
       "      <td>47.8</td>\n",
       "      <td>34.4</td>\n",
       "      <td>7.7</td>\n",
       "      <td>1.8</td>\n",
       "      <td>13.9</td>\n",
       "      <td>1281334</td>\n",
       "      <td>501889</td>\n",
       "      <td>97</td>\n",
       "      <td>1325208</td>\n",
       "      <td>602887</td>\n",
       "    </tr>\n",
       "    <tr>\n",
       "      <th>14</th>\n",
       "      <td>2004</td>\n",
       "      <td>42.4</td>\n",
       "      <td>49.3</td>\n",
       "      <td>35.2</td>\n",
       "      <td>7.5</td>\n",
       "      <td>1.8</td>\n",
       "      <td>13.5</td>\n",
       "      <td>1235012</td>\n",
       "      <td>502761</td>\n",
       "      <td>98</td>\n",
       "      <td>1298718</td>\n",
       "      <td>587350</td>\n",
       "    </tr>\n",
       "    <tr>\n",
       "      <th>15</th>\n",
       "      <td>2005</td>\n",
       "      <td>44.2</td>\n",
       "      <td>51.3</td>\n",
       "      <td>36.8</td>\n",
       "      <td>7.3</td>\n",
       "      <td>1.8</td>\n",
       "      <td>13.0</td>\n",
       "      <td>1202738</td>\n",
       "      <td>505349</td>\n",
       "      <td>98</td>\n",
       "      <td>1236363</td>\n",
       "      <td>569950</td>\n",
       "    </tr>\n",
       "    <tr>\n",
       "      <th>16</th>\n",
       "      <td>2006</td>\n",
       "      <td>45.5</td>\n",
       "      <td>52.1</td>\n",
       "      <td>38.5</td>\n",
       "      <td>6.8</td>\n",
       "      <td>1.5</td>\n",
       "      <td>12.4</td>\n",
       "      <td>1171501</td>\n",
       "      <td>509106</td>\n",
       "      <td>98</td>\n",
       "      <td>1211242</td>\n",
       "      <td>551382</td>\n",
       "    </tr>\n",
       "    <tr>\n",
       "      <th>17</th>\n",
       "      <td>2007</td>\n",
       "      <td>47.2</td>\n",
       "      <td>53.5</td>\n",
       "      <td>40.6</td>\n",
       "      <td>6.5</td>\n",
       "      <td>1.4</td>\n",
       "      <td>11.9</td>\n",
       "      <td>1147159</td>\n",
       "      <td>513023</td>\n",
       "      <td>98</td>\n",
       "      <td>1213709</td>\n",
       "      <td>553352</td>\n",
       "    </tr>\n",
       "    <tr>\n",
       "      <th>18</th>\n",
       "      <td>2008</td>\n",
       "      <td>49.1</td>\n",
       "      <td>55.2</td>\n",
       "      <td>42.6</td>\n",
       "      <td>6.3</td>\n",
       "      <td>1.3</td>\n",
       "      <td>11.5</td>\n",
       "      <td>1088170</td>\n",
       "      <td>489520</td>\n",
       "      <td>98</td>\n",
       "      <td>1199309</td>\n",
       "      <td>543385</td>\n",
       "    </tr>\n",
       "    <tr>\n",
       "      <th>19</th>\n",
       "      <td>2009</td>\n",
       "      <td>50.2</td>\n",
       "      <td>55.9</td>\n",
       "      <td>44.2</td>\n",
       "      <td>6.0</td>\n",
       "      <td>1.2</td>\n",
       "      <td>11.1</td>\n",
       "      <td>1063581</td>\n",
       "      <td>473996</td>\n",
       "      <td>98</td>\n",
       "      <td>1188032</td>\n",
       "      <td>543981</td>\n",
       "    </tr>\n",
       "    <tr>\n",
       "      <th>20</th>\n",
       "      <td>2010</td>\n",
       "      <td>50.9</td>\n",
       "      <td>56.4</td>\n",
       "      <td>45.2</td>\n",
       "      <td>5.9</td>\n",
       "      <td>1.3</td>\n",
       "      <td>10.8</td>\n",
       "      <td>1069129</td>\n",
       "      <td>480528</td>\n",
       "      <td>98</td>\n",
       "      <td>1227736</td>\n",
       "      <td>553368</td>\n",
       "    </tr>\n",
       "    <tr>\n",
       "      <th>21</th>\n",
       "      <td>2011</td>\n",
       "      <td>51.0</td>\n",
       "      <td>56.0</td>\n",
       "      <td>45.8</td>\n",
       "      <td>5.7</td>\n",
       "      <td>1.2</td>\n",
       "      <td>10.4</td>\n",
       "      <td>1061564</td>\n",
       "      <td>474171</td>\n",
       "      <td>98</td>\n",
       "      <td>1176923</td>\n",
       "      <td>558984</td>\n",
       "    </tr>\n",
       "    <tr>\n",
       "      <th>22</th>\n",
       "      <td>2012</td>\n",
       "      <td>50.8</td>\n",
       "      <td>55.6</td>\n",
       "      <td>45.8</td>\n",
       "      <td>5.4</td>\n",
       "      <td>1.2</td>\n",
       "      <td>9.8</td>\n",
       "      <td>1053180</td>\n",
       "      <td>474636</td>\n",
       "      <td>98</td>\n",
       "      <td>1195204</td>\n",
       "      <td>555537</td>\n",
       "    </tr>\n",
       "    <tr>\n",
       "      <th>23</th>\n",
       "      <td>2013</td>\n",
       "      <td>49.9</td>\n",
       "      <td>54.0</td>\n",
       "      <td>45.6</td>\n",
       "      <td>5.3</td>\n",
       "      <td>1.1</td>\n",
       "      <td>9.5</td>\n",
       "      <td>1088124</td>\n",
       "      <td>483075</td>\n",
       "      <td>98</td>\n",
       "      <td>1185054</td>\n",
       "      <td>573344</td>\n",
       "    </tr>\n",
       "    <tr>\n",
       "      <th>24</th>\n",
       "      <td>2014</td>\n",
       "      <td>51.5</td>\n",
       "      <td>55.9</td>\n",
       "      <td>47.0</td>\n",
       "      <td>5.2</td>\n",
       "      <td>1.1</td>\n",
       "      <td>9.5</td>\n",
       "      <td>1047392</td>\n",
       "      <td>490787</td>\n",
       "      <td>98</td>\n",
       "      <td>1192990</td>\n",
       "      <td>560672</td>\n",
       "    </tr>\n",
       "  </tbody>\n",
       "</table>\n",
       "</div>"
      ],
      "text/plain": [
       "    Unnamed: 0   DEP  MDEP  FDEP   TEP  MTEP  FTEP      HSP  GDP(GNP)  HSPR  \\\n",
       "0         1990  24.6  33.4  15.2  11.7   1.7  22.2  1766917    451683    95   \n",
       "1         1991  25.5  34.5  16.1  12.2   1.8  23.1  1803221    473608    95   \n",
       "2         1992  26.4  35.2  17.3  12.4   1.8  23.5  1807175    483256    96   \n",
       "3         1993  28.0  36.6  19.0  12.9   1.9  24.4  1755338    482608    96   \n",
       "4         1994  30.1  38.9  21.0  13.2   2.0  24.9  1658949    495612    97   \n",
       "5         1995  32.1  40.7  22.9  13.1   2.1  24.6  1590720    504594    97   \n",
       "6         1996  33.4  41.9  24.6  12.7   2.3  23.7  1554549    515944    97   \n",
       "7         1997  34.9  43.4  26.0  12.4   2.3  22.9  1503748    521295    97   \n",
       "8         1998  36.4  44.9  27.5  11.8   2.2  21.9  1441061    510919    97   \n",
       "9         1999  38.2  46.5  29.4  10.9   2.1  20.2  1362682    506599    97   \n",
       "10        2000  39.7  47.5  31.5   9.4   1.9  17.2  1328902    510835    97   \n",
       "11        2001  39.9  46.9  32.7   8.6   1.8  15.8  1326844    501711    97   \n",
       "12        2002  40.5  47.0  33.8   8.1   1.8  14.7  1314809    498009    97   \n",
       "13        2003  41.3  47.8  34.4   7.7   1.8  13.9  1281334    501889    97   \n",
       "14        2004  42.4  49.3  35.2   7.5   1.8  13.5  1235012    502761    98   \n",
       "15        2005  44.2  51.3  36.8   7.3   1.8  13.0  1202738    505349    98   \n",
       "16        2006  45.5  52.1  38.5   6.8   1.5  12.4  1171501    509106    98   \n",
       "17        2007  47.2  53.5  40.6   6.5   1.4  11.9  1147159    513023    98   \n",
       "18        2008  49.1  55.2  42.6   6.3   1.3  11.5  1088170    489520    98   \n",
       "19        2009  50.2  55.9  44.2   6.0   1.2  11.1  1063581    473996    98   \n",
       "20        2010  50.9  56.4  45.2   5.9   1.3  10.8  1069129    480528    98   \n",
       "21        2011  51.0  56.0  45.8   5.7   1.2  10.4  1061564    474171    98   \n",
       "22        2012  50.8  55.6  45.8   5.4   1.2   9.8  1053180    474636    98   \n",
       "23        2013  49.9  54.0  45.6   5.3   1.1   9.5  1088124    483075    98   \n",
       "24        2014  51.5  55.9  47.0   5.2   1.1   9.5  1047392    490787    98   \n",
       "\n",
       "        JSP      DS  \n",
       "0   1981503  430542  \n",
       "1   1860300  455855  \n",
       "2   1773712  472098  \n",
       "3   1732437  512712  \n",
       "4   1680006  531177  \n",
       "5   1622198  557400  \n",
       "6   1545270  574115  \n",
       "7   1510994  599962  \n",
       "8   1511845  597271  \n",
       "9   1502711  580064  \n",
       "10  1464760  581958  \n",
       "11  1410403  590892  \n",
       "12  1365471  602090  \n",
       "13  1325208  602887  \n",
       "14  1298718  587350  \n",
       "15  1236363  569950  \n",
       "16  1211242  551382  \n",
       "17  1213709  553352  \n",
       "18  1199309  543385  \n",
       "19  1188032  543981  \n",
       "20  1227736  553368  \n",
       "21  1176923  558984  \n",
       "22  1195204  555537  \n",
       "23  1185054  573344  \n",
       "24  1192990  560672  "
      ]
     },
     "execution_count": 5,
     "metadata": {},
     "output_type": "execute_result"
    }
   ],
   "source": [
    "data = pd.read_csv('data.csv')\n",
    "data"
   ]
  },
  {
   "cell_type": "code",
   "execution_count": 6,
   "metadata": {
    "collapsed": false
   },
   "outputs": [],
   "source": [
    "data = np.asarray(data)"
   ]
  },
  {
   "cell_type": "code",
   "execution_count": 7,
   "metadata": {
    "collapsed": false
   },
   "outputs": [],
   "source": [
    "npDEP = []\n",
    "for i in range(len(data)):\n",
    "    npDEP.append(data[i][1])"
   ]
  },
  {
   "cell_type": "code",
   "execution_count": 8,
   "metadata": {
    "collapsed": false
   },
   "outputs": [],
   "source": [
    "npMDEP = []\n",
    "for i in range(len(data)):\n",
    "    npMDEP.append(data[i][2])"
   ]
  },
  {
   "cell_type": "code",
   "execution_count": 9,
   "metadata": {
    "collapsed": false
   },
   "outputs": [],
   "source": [
    "npFDEP = []\n",
    "for i in range(len(data)):\n",
    "    npFDEP.append(data[i][3])"
   ]
  },
  {
   "cell_type": "code",
   "execution_count": 10,
   "metadata": {
    "collapsed": false
   },
   "outputs": [],
   "source": [
    "npTEP = []\n",
    "for i in range(len(data)):\n",
    "    npTEP.append(float(data[i][4]))"
   ]
  },
  {
   "cell_type": "code",
   "execution_count": 11,
   "metadata": {
    "collapsed": false
   },
   "outputs": [],
   "source": [
    "npGDP = []\n",
    "for i in range(len(data)):\n",
    "    npGDP.append(data[i][8]/1000)"
   ]
  },
  {
   "cell_type": "markdown",
   "metadata": {},
   "source": [
    "高校卒業者数"
   ]
  },
  {
   "cell_type": "code",
   "execution_count": 12,
   "metadata": {
    "collapsed": true
   },
   "outputs": [],
   "source": [
    "npHSP = []\n",
    "for i in range(len(data)):\n",
    "    npHSP.append(data[i][7])"
   ]
  },
  {
   "cell_type": "markdown",
   "metadata": {},
   "source": [
    "高校進学率"
   ]
  },
  {
   "cell_type": "code",
   "execution_count": 13,
   "metadata": {
    "collapsed": true
   },
   "outputs": [],
   "source": [
    "npHSPR = []\n",
    "for i in range(len(data)):\n",
    "    npHSPR.append(data[i][9])"
   ]
  },
  {
   "cell_type": "markdown",
   "metadata": {},
   "source": [
    "中学卒業者数"
   ]
  },
  {
   "cell_type": "code",
   "execution_count": 14,
   "metadata": {
    "collapsed": true
   },
   "outputs": [],
   "source": [
    "npJSP = []\n",
    "for i in range(len(data)):\n",
    "    npJSP.append(data[i][10])"
   ]
  },
  {
   "cell_type": "markdown",
   "metadata": {},
   "source": [
    "大学進学志望者数"
   ]
  },
  {
   "cell_type": "code",
   "execution_count": 15,
   "metadata": {
    "collapsed": true
   },
   "outputs": [],
   "source": [
    "npDS = []\n",
    "for i in range(len(data)):\n",
    "    npDS.append(data[i][11])"
   ]
  },
  {
   "cell_type": "markdown",
   "metadata": {},
   "source": [
    "（３）必要に応じて、以下を参考にして比率を計算し、新しい変数を作成する。"
   ]
  },
  {
   "cell_type": "code",
   "execution_count": 16,
   "metadata": {
    "collapsed": true
   },
   "outputs": [],
   "source": [
    "#高校進学者数\n",
    "npHSPR = []\n",
    "for i in range(len(data)):\n",
    "    npHSPR.append(data[i][9]*data[i][10])"
   ]
  },
  {
   "cell_type": "markdown",
   "metadata": {},
   "source": [
    "高校卒業率：HSPGR"
   ]
  },
  {
   "cell_type": "code",
   "execution_count": 17,
   "metadata": {
    "collapsed": false
   },
   "outputs": [],
   "source": [
    "npHSPGR = []\n",
    "for i in range(len(data)):\n",
    "    npHSPGR.append(npHSP[i]*npHSPR[i])"
   ]
  },
  {
   "cell_type": "markdown",
   "metadata": {},
   "source": [
    "大学進学志望者率：DSR"
   ]
  },
  {
   "cell_type": "code",
   "execution_count": 18,
   "metadata": {
    "collapsed": true
   },
   "outputs": [],
   "source": [
    "npDSR = []\n",
    "for i in range(len(data)):\n",
    "    npDSR.append(npDS[i]*npHSP[i])"
   ]
  },
  {
   "cell_type": "markdown",
   "metadata": {},
   "source": [
    "（４）選択した変数や作成した変数のいくつかの組み合わせについて、散布図を作成し、はずれ値をチェックする。"
   ]
  },
  {
   "cell_type": "markdown",
   "metadata": {},
   "source": [
    "DEP、MDEP、FDEP、TEPの散布図。"
   ]
  },
  {
   "cell_type": "code",
   "execution_count": 19,
   "metadata": {
    "collapsed": false
   },
   "outputs": [
    {
     "data": {
      "text/plain": [
       "[<matplotlib.lines.Line2D at 0x1094ef750>]"
      ]
     },
     "execution_count": 19,
     "metadata": {},
     "output_type": "execute_result"
    },
    {
     "data": {
      "image/png": "[encoded data removed]",
      "text/plain": [
       "<matplotlib.figure.Figure at 0x10941b2d0>"
      ]
     },
     "metadata": {},
     "output_type": "display_data"
    }
   ],
   "source": [
    "plt.plot(npDEP)\n",
    "plt.plot(npMDEP)\n",
    "plt.plot(npFDEP)\n",
    "plt.plot(npTEP)"
   ]
  },
  {
   "cell_type": "markdown",
   "metadata": {},
   "source": [
    "GDPの散布図。"
   ]
  },
  {
   "cell_type": "code",
   "execution_count": 20,
   "metadata": {
    "collapsed": false
   },
   "outputs": [
    {
     "data": {
      "text/plain": [
       "[<matplotlib.lines.Line2D at 0x10962b990>]"
      ]
     },
     "execution_count": 20,
     "metadata": {},
     "output_type": "execute_result"
    },
    {
     "data": {
      "image/png": "[encoded data removed]",
      "text/plain": [
       "<matplotlib.figure.Figure at 0x10941bb90>"
      ]
     },
     "metadata": {},
     "output_type": "display_data"
    }
   ],
   "source": [
    "plt.plot(npGDP)"
   ]
  },
  {
   "cell_type": "code",
   "execution_count": 21,
   "metadata": {
    "collapsed": false
   },
   "outputs": [
    {
     "data": {
      "text/plain": [
       "[<matplotlib.lines.Line2D at 0x10974cf90>]"
      ]
     },
     "execution_count": 21,
     "metadata": {},
     "output_type": "execute_result"
    },
    {
     "data": {
      "image/png": "[encoded data removed]",
      "text/plain": [
       "<matplotlib.figure.Figure at 0x109662390>"
      ]
     },
     "metadata": {},
     "output_type": "display_data"
    }
   ],
   "source": [
    "plt.plot(npHSPGR)"
   ]
  },
  {
   "cell_type": "code",
   "execution_count": 22,
   "metadata": {
    "collapsed": false
   },
   "outputs": [
    {
     "data": {
      "text/plain": [
       "[<matplotlib.lines.Line2D at 0x1097f4d10>]"
      ]
     },
     "execution_count": 22,
     "metadata": {},
     "output_type": "execute_result"
    },
    {
     "data": {
      "image/png": "[encoded data removed]",
      "text/plain": [
       "<matplotlib.figure.Figure at 0x10967e4d0>"
      ]
     },
     "metadata": {},
     "output_type": "display_data"
    }
   ],
   "source": [
    "plt.plot(npDSR)"
   ]
  },
  {
   "cell_type": "markdown",
   "metadata": {},
   "source": [
    "GDP以外は外れ値は特に存在しないと考えて良い。ただし、GDPは乱高下が激しい。その原因は金融危機にある。2008年以降の値を2007年の値で固定したデータを作る。"
   ]
  },
  {
   "cell_type": "code",
   "execution_count": 23,
   "metadata": {
    "collapsed": false
   },
   "outputs": [
    {
     "data": {
      "text/plain": [
       "[<matplotlib.lines.Line2D at 0x10a273c50>]"
      ]
     },
     "execution_count": 23,
     "metadata": {},
     "output_type": "execute_result"
    },
    {
     "data": {
      "image/png": "[encoded data removed]",
      "text/plain": [
       "<matplotlib.figure.Figure at 0x1097a2f90>"
      ]
     },
     "metadata": {},
     "output_type": "display_data"
    }
   ],
   "source": [
    "npGDP_hat= []\n",
    "for i in range(len(data)):\n",
    "    if i < 18:\n",
    "        npGDP_hat.append(data[i][8]/1000)\n",
    "    else:\n",
    "        npGDP_hat.append(data[17][8]/1000)\n",
    "plt.plot(npGDP_hat)"
   ]
  },
  {
   "cell_type": "markdown",
   "metadata": {},
   "source": [
    "（５）選択した変数の単相関係数表を作成して，多重共線性がないかチェックする。"
   ]
  },
  {
   "cell_type": "code",
   "execution_count": 71,
   "metadata": {
    "collapsed": false
   },
   "outputs": [
    {
     "data": {
      "text/plain": [
       "array([[ 1.        ,  0.17548678,  0.90620717,  0.94221942],\n",
       "       [ 0.17548678,  1.        , -0.17936295,  0.35991527],\n",
       "       [ 0.90620717, -0.17936295,  1.        ,  0.79879613],\n",
       "       [ 0.94221942,  0.35991527,  0.79879613,  1.        ]])"
      ]
     },
     "execution_count": 71,
     "metadata": {},
     "output_type": "execute_result"
    }
   ],
   "source": [
    "corr = np.corrcoef([npTEP, npGDP, npHSPGR, npDSR])\n",
    "corr"
   ]
  },
  {
   "cell_type": "markdown",
   "metadata": {},
   "source": [
    "TEPとHSPGR、TEPとDSRは多重共線性が発生していると考えられる。\n",
    "HSPGRとDSRには多重共線性の疑いがある。"
   ]
  },
  {
   "cell_type": "markdown",
   "metadata": {},
   "source": [
    "（６）選択した変数や作成した変数のいくつかを被説明変数、いくつかを説明変数として、単回帰分析（Ｙ＝α＋\n",
    "βＸ＋u）を行う。たとえば、女子の大学志願率を被説明変数、GNP_1 を説明変数にするなど。なぜその変\n",
    "数の組み合わせを選んだか、モデルについて簡単に説明を行い、回帰の結果について説明する。その際、調\n",
    "整済み決定係数（補正 R2）、係数の信頼性（P、有意性）について必ずふれること。はずれ値があった場合、\n",
    "そのはずれ値を除いた回帰分析を行い、結果を比較する。"
   ]
  },
  {
   "cell_type": "code",
   "execution_count": 30,
   "metadata": {
    "collapsed": false
   },
   "outputs": [],
   "source": [
    "df = pd.DataFrame({\"DEP\": npDEP, \"MDEP\": npMDEP, \"FDEP\": npDEP, \"TEP\": npTEP, \"GDP\": npGDP, \"HSPGR\": npHSPGR, \"DSR\": npDSR, \"GDP_hat\":npGDP_hat})"
   ]
  },
  {
   "cell_type": "code",
   "execution_count": 31,
   "metadata": {
    "collapsed": false
   },
   "outputs": [
    {
     "name": "stdout",
     "output_type": "stream",
     "text": [
      "Intercept   -15.795526\n",
      "MDEP          1.184843\n",
      "dtype: float64\n",
      "                            OLS Regression Results                            \n",
      "==============================================================================\n",
      "Dep. Variable:                    DEP   R-squared:                       0.994\n",
      "Model:                            OLS   Adj. R-squared:                  0.994\n",
      "Method:                 Least Squares   F-statistic:                     3718.\n",
      "Date:                Tue, 27 Oct 2015   Prob (F-statistic):           6.15e-27\n",
      "Time:                        00:11:37   Log-Likelihood:                -25.984\n",
      "No. Observations:                  25   AIC:                             55.97\n",
      "Df Residuals:                      23   BIC:                             58.41\n",
      "Df Model:                           1                                         \n",
      "Covariance Type:            nonrobust                                         \n",
      "==============================================================================\n",
      "                 coef    std err          t      P>|t|      [95.0% Conf. Int.]\n",
      "------------------------------------------------------------------------------\n",
      "Intercept    -15.7955      0.929    -17.011      0.000       -17.716   -13.875\n",
      "MDEP           1.1848      0.019     60.972      0.000         1.145     1.225\n",
      "==============================================================================\n",
      "Omnibus:                        1.232   Durbin-Watson:                   0.407\n",
      "Prob(Omnibus):                  0.540   Jarque-Bera (JB):                1.004\n",
      "Skew:                           0.464   Prob(JB):                        0.605\n",
      "Kurtosis:                       2.680   Cond. No.                         311.\n",
      "==============================================================================\n",
      "\n",
      "Warnings:\n",
      "[1] Standard Errors assume that the covariance matrix of the errors is correctly specified.\n"
     ]
    }
   ],
   "source": [
    "result = sm.ols(formula=\"DEP ~ MDEP\", data=df).fit()\n",
    "print result.params\n",
    "print result.summary()"
   ]
  },
  {
   "cell_type": "code",
   "execution_count": 32,
   "metadata": {
    "collapsed": false
   },
   "outputs": [
    {
     "name": "stdout",
     "output_type": "stream",
     "text": [
      "Intercept   -2.309264e-14\n",
      "FDEP         1.000000e+00\n",
      "dtype: float64\n",
      "                            OLS Regression Results                            \n",
      "==============================================================================\n",
      "Dep. Variable:                    DEP   R-squared:                       1.000\n",
      "Model:                            OLS   Adj. R-squared:                  1.000\n",
      "Method:                 Least Squares   F-statistic:                 1.097e+31\n",
      "Date:                Tue, 27 Oct 2015   Prob (F-statistic):               0.00\n",
      "Time:                        00:11:39   Log-Likelihood:                 764.59\n",
      "No. Observations:                  25   AIC:                            -1525.\n",
      "Df Residuals:                      23   BIC:                            -1523.\n",
      "Df Model:                           1                                         \n",
      "Covariance Type:            nonrobust                                         \n",
      "==============================================================================\n",
      "                 coef    std err          t      P>|t|      [95.0% Conf. Int.]\n",
      "------------------------------------------------------------------------------\n",
      "Intercept  -2.309e-14   1.24e-14     -1.862      0.075     -4.87e-14  2.56e-15\n",
      "FDEP           1.0000   3.02e-16   3.31e+15      0.000         1.000     1.000\n",
      "==============================================================================\n",
      "Omnibus:                        6.914   Durbin-Watson:                   0.013\n",
      "Prob(Omnibus):                  0.032   Jarque-Bera (JB):                5.127\n",
      "Skew:                          -0.980   Prob(JB):                       0.0770\n",
      "Kurtosis:                       1.960   Cond. No.                         194.\n",
      "==============================================================================\n",
      "\n",
      "Warnings:\n",
      "[1] Standard Errors assume that the covariance matrix of the errors is correctly specified.\n"
     ]
    }
   ],
   "source": [
    "result = sm.ols(formula=\"DEP ~ FDEP\", data=df).fit()\n",
    "print result.params\n",
    "print result.summary()"
   ]
  },
  {
   "cell_type": "markdown",
   "metadata": {},
   "source": [
    "DEPとMDEP、FDEPの回帰は決定係数が十分大きく、p値が0.01%未満であり、信用に足ると考えられる。"
   ]
  },
  {
   "cell_type": "code",
   "execution_count": 33,
   "metadata": {
    "collapsed": false
   },
   "outputs": [
    {
     "name": "stdout",
     "output_type": "stream",
     "text": [
      "Intercept    65.480046\n",
      "TEP          -2.814672\n",
      "dtype: float64\n",
      "                            OLS Regression Results                            \n",
      "==============================================================================\n",
      "Dep. Variable:                    DEP   R-squared:                       0.884\n",
      "Model:                            OLS   Adj. R-squared:                  0.879\n",
      "Method:                 Least Squares   F-statistic:                     175.5\n",
      "Date:                Tue, 27 Oct 2015   Prob (F-statistic):           3.00e-12\n",
      "Time:                        00:11:39   Log-Likelihood:                -62.689\n",
      "No. Observations:                  25   AIC:                             129.4\n",
      "Df Residuals:                      23   BIC:                             131.8\n",
      "Df Model:                           1                                         \n",
      "Covariance Type:            nonrobust                                         \n",
      "==============================================================================\n",
      "                 coef    std err          t      P>|t|      [95.0% Conf. Int.]\n",
      "------------------------------------------------------------------------------\n",
      "Intercept     65.4800      2.010     32.575      0.000        61.322    69.638\n",
      "TEP           -2.8147      0.212    -13.246      0.000        -3.254    -2.375\n",
      "==============================================================================\n",
      "Omnibus:                        3.868   Durbin-Watson:                   0.229\n",
      "Prob(Omnibus):                  0.145   Jarque-Bera (JB):                2.432\n",
      "Skew:                          -0.742   Prob(JB):                        0.296\n",
      "Kurtosis:                       3.361   Cond. No.                         31.0\n",
      "==============================================================================\n",
      "\n",
      "Warnings:\n",
      "[1] Standard Errors assume that the covariance matrix of the errors is correctly specified.\n"
     ]
    }
   ],
   "source": [
    "result = sm.ols(formula=\"DEP ~ TEP\", data=df).fit()\n",
    "print result.params\n",
    "print result.summary()"
   ]
  },
  {
   "cell_type": "markdown",
   "metadata": {},
   "source": [
    "DEPとTEPの回帰は決定係数が十分大きく、p値が0.01%未満であり、信用に足ると考えられる。"
   ]
  },
  {
   "cell_type": "code",
   "execution_count": 34,
   "metadata": {
    "collapsed": false
   },
   "outputs": [
    {
     "name": "stdout",
     "output_type": "stream",
     "text": [
      "Intercept    33.518787\n",
      "GDP           0.013413\n",
      "dtype: float64\n",
      "                            OLS Regression Results                            \n",
      "==============================================================================\n",
      "Dep. Variable:                    DEP   R-squared:                       0.001\n",
      "Model:                            OLS   Adj. R-squared:                 -0.043\n",
      "Method:                 Least Squares   F-statistic:                   0.01513\n",
      "Date:                Tue, 27 Oct 2015   Prob (F-statistic):              0.903\n",
      "Time:                        00:11:39   Log-Likelihood:                -89.620\n",
      "No. Observations:                  25   AIC:                             183.2\n",
      "Df Residuals:                      23   BIC:                             185.7\n",
      "Df Model:                           1                                         \n",
      "Covariance Type:            nonrobust                                         \n",
      "==============================================================================\n",
      "                 coef    std err          t      P>|t|      [95.0% Conf. Int.]\n",
      "------------------------------------------------------------------------------\n",
      "Intercept     33.5188     53.926      0.622      0.540       -78.035   145.073\n",
      "GDP            0.0134      0.109      0.123      0.903        -0.212     0.239\n",
      "==============================================================================\n",
      "Omnibus:                        4.666   Durbin-Watson:                   0.022\n",
      "Prob(Omnibus):                  0.097   Jarque-Bera (JB):                1.783\n",
      "Skew:                          -0.238   Prob(JB):                        0.410\n",
      "Kurtosis:                       1.781   Cond. No.                     1.47e+04\n",
      "==============================================================================\n",
      "\n",
      "Warnings:\n",
      "[1] Standard Errors assume that the covariance matrix of the errors is correctly specified.\n",
      "[2] The condition number is large, 1.47e+04. This might indicate that there are\n",
      "strong multicollinearity or other numerical problems.\n"
     ]
    }
   ],
   "source": [
    "result = sm.ols(formula=\"DEP ~ GDP\", data=df).fit()\n",
    "print result.params\n",
    "print result.summary()"
   ]
  },
  {
   "cell_type": "markdown",
   "metadata": {},
   "source": [
    "DEPとGDPの回帰は決定係数が小さく、p値も大きいため、上手く説明できていない可能性がある。"
   ]
  },
  {
   "cell_type": "code",
   "execution_count": 35,
   "metadata": {
    "collapsed": false
   },
   "outputs": [
    {
     "name": "stdout",
     "output_type": "stream",
     "text": [
      "Intercept    6.456433e+01\n",
      "HSPGR       -1.272331e-13\n",
      "dtype: float64\n",
      "                            OLS Regression Results                            \n",
      "==============================================================================\n",
      "Dep. Variable:                    DEP   R-squared:                       0.966\n",
      "Model:                            OLS   Adj. R-squared:                  0.964\n",
      "Method:                 Least Squares   F-statistic:                     648.1\n",
      "Date:                Tue, 27 Oct 2015   Prob (F-statistic):           2.37e-18\n",
      "Time:                        00:11:40   Log-Likelihood:                -47.460\n",
      "No. Observations:                  25   AIC:                             98.92\n",
      "Df Residuals:                      23   BIC:                             101.4\n",
      "Df Model:                           1                                         \n",
      "Covariance Type:            nonrobust                                         \n",
      "==============================================================================\n",
      "                 coef    std err          t      P>|t|      [95.0% Conf. Int.]\n",
      "------------------------------------------------------------------------------\n",
      "Intercept     64.5643      1.016     63.517      0.000        62.462    66.667\n",
      "HSPGR      -1.272e-13      5e-15    -25.458      0.000     -1.38e-13 -1.17e-13\n",
      "==============================================================================\n",
      "Omnibus:                        8.952   Durbin-Watson:                   0.163\n",
      "Prob(Omnibus):                  0.011   Jarque-Bera (JB):                2.246\n",
      "Skew:                           0.196   Prob(JB):                        0.325\n",
      "Kurtosis:                       1.585   Cond. No.                     6.14e+14\n",
      "==============================================================================\n",
      "\n",
      "Warnings:\n",
      "[1] Standard Errors assume that the covariance matrix of the errors is correctly specified.\n",
      "[2] The condition number is large, 6.14e+14. This might indicate that there are\n",
      "strong multicollinearity or other numerical problems.\n"
     ]
    }
   ],
   "source": [
    "result = sm.ols(formula=\"DEP ~ HSPGR\", data=df).fit()\n",
    "print result.params\n",
    "print result.summary()"
   ]
  },
  {
   "cell_type": "markdown",
   "metadata": {},
   "source": [
    "DEPとHSPGRの回帰は決定係数が十分大きく、p値が0.01%未満であり、信用に足ると考えられる。"
   ]
  },
  {
   "cell_type": "code",
   "execution_count": 36,
   "metadata": {
    "collapsed": false
   },
   "outputs": [
    {
     "name": "stdout",
     "output_type": "stream",
     "text": [
      "Intercept    8.902473e+01\n",
      "DSR         -6.600046e-11\n",
      "dtype: float64\n",
      "                            OLS Regression Results                            \n",
      "==============================================================================\n",
      "Dep. Variable:                    DEP   R-squared:                       0.769\n",
      "Model:                            OLS   Adj. R-squared:                  0.759\n",
      "Method:                 Least Squares   F-statistic:                     76.65\n",
      "Date:                Tue, 27 Oct 2015   Prob (F-statistic):           8.83e-09\n",
      "Time:                        00:11:40   Log-Likelihood:                -71.301\n",
      "No. Observations:                  25   AIC:                             146.6\n",
      "Df Residuals:                      23   BIC:                             149.0\n",
      "Df Model:                           1                                         \n",
      "Covariance Type:            nonrobust                                         \n",
      "==============================================================================\n",
      "                 coef    std err          t      P>|t|      [95.0% Conf. Int.]\n",
      "------------------------------------------------------------------------------\n",
      "Intercept     89.0247      5.651     15.754      0.000        77.335   100.714\n",
      "DSR          -6.6e-11   7.54e-12     -8.755      0.000     -8.16e-11 -5.04e-11\n",
      "==============================================================================\n",
      "Omnibus:                       21.689   Durbin-Watson:                   0.218\n",
      "Prob(Omnibus):                  0.000   Jarque-Bera (JB):               29.378\n",
      "Skew:                          -1.917   Prob(JB):                     4.18e-07\n",
      "Kurtosis:                       6.674   Cond. No.                     4.85e+12\n",
      "==============================================================================\n",
      "\n",
      "Warnings:\n",
      "[1] Standard Errors assume that the covariance matrix of the errors is correctly specified.\n",
      "[2] The condition number is large, 4.85e+12. This might indicate that there are\n",
      "strong multicollinearity or other numerical problems.\n"
     ]
    }
   ],
   "source": [
    "result = sm.ols(formula=\"DEP ~ DSR\", data=df).fit()\n",
    "print result.params\n",
    "print result.summary()"
   ]
  },
  {
   "cell_type": "markdown",
   "metadata": {},
   "source": [
    "DEPとDSRの回帰は決定係数が十分大きく、p値が0.01%未満であり、信用に足ると考えられる。"
   ]
  },
  {
   "cell_type": "code",
   "execution_count": 37,
   "metadata": {
    "collapsed": false
   },
   "outputs": [
    {
     "name": "stdout",
     "output_type": "stream",
     "text": [
      "Intercept   -167.235343\n",
      "GDP_hat        0.412130\n",
      "dtype: float64\n",
      "                            OLS Regression Results                            \n",
      "==============================================================================\n",
      "Dep. Variable:                    DEP   R-squared:                       0.524\n",
      "Model:                            OLS   Adj. R-squared:                  0.503\n",
      "Method:                 Least Squares   F-statistic:                     25.33\n",
      "Date:                Tue, 27 Oct 2015   Prob (F-statistic):           4.30e-05\n",
      "Time:                        00:11:41   Log-Likelihood:                -80.345\n",
      "No. Observations:                  25   AIC:                             164.7\n",
      "Df Residuals:                      23   BIC:                             167.1\n",
      "Df Model:                           1                                         \n",
      "Covariance Type:            nonrobust                                         \n",
      "==============================================================================\n",
      "                 coef    std err          t      P>|t|      [95.0% Conf. Int.]\n",
      "------------------------------------------------------------------------------\n",
      "Intercept   -167.2353     41.222     -4.057      0.000      -252.509   -81.962\n",
      "GDP_hat        0.4121      0.082      5.033      0.000         0.243     0.582\n",
      "==============================================================================\n",
      "Omnibus:                        2.760   Durbin-Watson:                   0.200\n",
      "Prob(Omnibus):                  0.252   Jarque-Bera (JB):                2.212\n",
      "Skew:                          -0.603   Prob(JB):                        0.331\n",
      "Kurtosis:                       2.183   Cond. No.                     1.65e+04\n",
      "==============================================================================\n",
      "\n",
      "Warnings:\n",
      "[1] Standard Errors assume that the covariance matrix of the errors is correctly specified.\n",
      "[2] The condition number is large, 1.65e+04. This might indicate that there are\n",
      "strong multicollinearity or other numerical problems.\n"
     ]
    }
   ],
   "source": [
    "result = sm.ols(formula=\"DEP ~ GDP_hat\", data=df).fit()\n",
    "print result.params\n",
    "print result.summary()"
   ]
  },
  {
   "cell_type": "markdown",
   "metadata": {},
   "source": [
    "<p>ためしに作ったGDP_hat。</p>\n",
    "<p>だが、やはり大雑把に過ぎるので、対数線形で回帰する</p>"
   ]
  },
  {
   "cell_type": "code",
   "execution_count": 67,
   "metadata": {
    "collapsed": false
   },
   "outputs": [
    {
     "data": {
      "text/plain": [
       "[<matplotlib.lines.Line2D at 0x10b944e50>]"
      ]
     },
     "execution_count": 67,
     "metadata": {},
     "output_type": "execute_result"
    },
    {
     "data": {
      "image/png": "[encoded data removed]",
      "text/plain": [
       "<matplotlib.figure.Figure at 0x10b8d4310>"
      ]
     },
     "metadata": {},
     "output_type": "display_data"
    }
   ],
   "source": [
    "npGDP_log= []\n",
    "for i in range(len(data)):\n",
    "    npGDP_log.append(np.log(data[i][8]/1000))\n",
    "plt.plot(npGDP_log)"
   ]
  },
  {
   "cell_type": "code",
   "execution_count": 68,
   "metadata": {
    "collapsed": false
   },
   "outputs": [
    {
     "data": {
      "text/plain": [
       "[<matplotlib.lines.Line2D at 0x10ba21990>]"
      ]
     },
     "execution_count": 68,
     "metadata": {},
     "output_type": "execute_result"
    },
    {
     "data": {
      "image/png": "[encoded data removed]",
      "text/plain": [
       "<matplotlib.figure.Figure at 0x10b580250>"
      ]
     },
     "metadata": {},
     "output_type": "display_data"
    }
   ],
   "source": [
    "npDEP_log= []\n",
    "for i in range(len(data)):\n",
    "    npDEP_log.append(np.log(data[i][1]))\n",
    "plt.plot(npDEP_log)"
   ]
  },
  {
   "cell_type": "code",
   "execution_count": 69,
   "metadata": {
    "collapsed": false
   },
   "outputs": [
    {
     "name": "stdout",
     "output_type": "stream",
     "text": [
      "Intercept   -1.567330\n",
      "GDP_log      0.843873\n",
      "dtype: float64\n",
      "                            OLS Regression Results                            \n",
      "==============================================================================\n",
      "Dep. Variable:                DEP_log   R-squared:                       0.015\n",
      "Model:                            OLS   Adj. R-squared:                 -0.028\n",
      "Method:                 Least Squares   F-statistic:                    0.3560\n",
      "Date:                Tue, 27 Oct 2015   Prob (F-statistic):              0.557\n",
      "Time:                        00:27:42   Log-Likelihood:                 1.1368\n",
      "No. Observations:                  25   AIC:                             1.726\n",
      "Df Residuals:                      23   BIC:                             4.164\n",
      "Df Model:                           1                                         \n",
      "Covariance Type:            nonrobust                                         \n",
      "==============================================================================\n",
      "                 coef    std err          t      P>|t|      [95.0% Conf. Int.]\n",
      "------------------------------------------------------------------------------\n",
      "Intercept     -1.5673      8.772     -0.179      0.860       -19.714    16.579\n",
      "GDP_log        0.8439      1.414      0.597      0.557        -2.082     3.770\n",
      "==============================================================================\n",
      "Omnibus:                        4.371   Durbin-Watson:                   0.025\n",
      "Prob(Omnibus):                  0.112   Jarque-Bera (JB):                1.798\n",
      "Skew:                          -0.276   Prob(JB):                        0.407\n",
      "Kurtosis:                       1.808   Cond. No.                     1.16e+03\n",
      "==============================================================================\n",
      "\n",
      "Warnings:\n",
      "[1] Standard Errors assume that the covariance matrix of the errors is correctly specified.\n",
      "[2] The condition number is large, 1.16e+03. This might indicate that there are\n",
      "strong multicollinearity or other numerical problems.\n"
     ]
    }
   ],
   "source": [
    "df2 = pd.DataFrame({\"DEP_log\": npDEP_log, \"MDEP\": npMDEP, \"FDEP\": npDEP, \"TEP_log\": npTEP_log, \"HSPGR\": npHSPGR, \"DSR\": npDSR, \"GDP_log\": npGDP_log})\n",
    "result = sm.ols(formula=\"DEP_log ~ GDP_log\", data=df2).fit()\n",
    "print result.params\n",
    "print result.summary()"
   ]
  },
  {
   "cell_type": "markdown",
   "metadata": {},
   "source": [
    "（７）上記の結果に基づき、いくつかの変数（最低２つ）を説明変数とする重回帰分析を行い、結果を分析する。\n",
    "上記の調整済み決定係数（補正 R2）、係数の信頼性（P、有意性）に加え，分散分析（F 値、有意性）につ\n",
    "いて，必ずふれること。"
   ]
  },
  {
   "cell_type": "code",
   "execution_count": 39,
   "metadata": {
    "collapsed": false
   },
   "outputs": [
    {
     "name": "stdout",
     "output_type": "stream",
     "text": [
      "Intercept    15.551281\n",
      "TEP          -2.918002\n",
      "GDP           0.102907\n",
      "dtype: float64\n",
      "                            OLS Regression Results                            \n",
      "==============================================================================\n",
      "Dep. Variable:                    DEP   R-squared:                       0.922\n",
      "Model:                            OLS   Adj. R-squared:                  0.914\n",
      "Method:                 Least Squares   F-statistic:                     129.3\n",
      "Date:                Tue, 27 Oct 2015   Prob (F-statistic):           6.87e-13\n",
      "Time:                        00:11:43   Log-Likelihood:                -57.802\n",
      "No. Observations:                  25   AIC:                             121.6\n",
      "Df Residuals:                      22   BIC:                             125.3\n",
      "Df Model:                           2                                         \n",
      "Covariance Type:            nonrobust                                         \n",
      "==============================================================================\n",
      "                 coef    std err          t      P>|t|      [95.0% Conf. Int.]\n",
      "------------------------------------------------------------------------------\n",
      "Intercept     15.5513     15.483      1.004      0.326       -16.558    47.661\n",
      "TEP           -2.9180      0.182    -16.077      0.000        -3.294    -2.542\n",
      "GDP            0.1029      0.032      3.244      0.004         0.037     0.169\n",
      "==============================================================================\n",
      "Omnibus:                       19.378   Durbin-Watson:                   0.356\n",
      "Prob(Omnibus):                  0.000   Jarque-Bera (JB):                2.815\n",
      "Skew:                          -0.073   Prob(JB):                        0.245\n",
      "Kurtosis:                       1.363   Cond. No.                     1.47e+04\n",
      "==============================================================================\n",
      "\n",
      "Warnings:\n",
      "[1] Standard Errors assume that the covariance matrix of the errors is correctly specified.\n",
      "[2] The condition number is large, 1.47e+04. This might indicate that there are\n",
      "strong multicollinearity or other numerical problems.\n"
     ]
    }
   ],
   "source": [
    "result = sm.ols(formula=\"DEP ~ TEP + GDP\", data=df).fit()\n",
    "print result.params\n",
    "print result.summary()"
   ]
  },
  {
   "cell_type": "code",
   "execution_count": 40,
   "metadata": {
    "collapsed": false
   },
   "outputs": [
    {
     "name": "stdout",
     "output_type": "stream",
     "text": [
      "Intercept   -41.847685\n",
      "TEP          -2.305390\n",
      "GDP_hat       0.204182\n",
      "dtype: float64\n",
      "                            OLS Regression Results                            \n",
      "==============================================================================\n",
      "Dep. Variable:                    DEP   R-squared:                       0.984\n",
      "Model:                            OLS   Adj. R-squared:                  0.982\n",
      "Method:                 Least Squares   F-statistic:                     668.8\n",
      "Date:                Tue, 27 Oct 2015   Prob (F-statistic):           1.99e-20\n",
      "Time:                        00:11:44   Log-Likelihood:                -38.079\n",
      "No. Observations:                  25   AIC:                             82.16\n",
      "Df Residuals:                      22   BIC:                             85.81\n",
      "Df Model:                           2                                         \n",
      "Covariance Type:            nonrobust                                         \n",
      "==============================================================================\n",
      "                 coef    std err          t      P>|t|      [95.0% Conf. Int.]\n",
      "------------------------------------------------------------------------------\n",
      "Intercept    -41.8477      9.250     -4.524      0.000       -61.031   -22.664\n",
      "TEP           -2.3054      0.092    -25.000      0.000        -2.497    -2.114\n",
      "GDP_hat        0.2042      0.018     11.643      0.000         0.168     0.241\n",
      "==============================================================================\n",
      "Omnibus:                       13.597   Durbin-Watson:                   1.316\n",
      "Prob(Omnibus):                  0.001   Jarque-Bera (JB):                2.479\n",
      "Skew:                           0.043   Prob(JB):                        0.289\n",
      "Kurtosis:                       1.460   Cond. No.                     1.97e+04\n",
      "==============================================================================\n",
      "\n",
      "Warnings:\n",
      "[1] Standard Errors assume that the covariance matrix of the errors is correctly specified.\n",
      "[2] The condition number is large, 1.97e+04. This might indicate that there are\n",
      "strong multicollinearity or other numerical problems.\n"
     ]
    }
   ],
   "source": [
    "result = sm.ols(formula=\"DEP ~ TEP + GDP_hat\", data=df).fit()\n",
    "print result.params\n",
    "print result.summary()"
   ]
  },
  {
   "cell_type": "code",
   "execution_count": 70,
   "metadata": {
    "collapsed": false
   },
   "outputs": [
    {
     "name": "stdout",
     "output_type": "stream",
     "text": [
      "Intercept   -7.769850\n",
      "TEP         -0.077156\n",
      "GDP_log      1.955849\n",
      "dtype: float64\n",
      "                            OLS Regression Results                            \n",
      "==============================================================================\n",
      "Dep. Variable:                DEP_log   R-squared:                       0.920\n",
      "Model:                            OLS   Adj. R-squared:                  0.913\n",
      "Method:                 Least Squares   F-statistic:                     127.1\n",
      "Date:                Tue, 27 Oct 2015   Prob (F-statistic):           8.19e-13\n",
      "Time:                        00:28:24   Log-Likelihood:                 32.571\n",
      "No. Observations:                  25   AIC:                            -59.14\n",
      "Df Residuals:                      22   BIC:                            -55.49\n",
      "Df Model:                           2                                         \n",
      "Covariance Type:            nonrobust                                         \n",
      "==============================================================================\n",
      "                 coef    std err          t      P>|t|      [95.0% Conf. Int.]\n",
      "------------------------------------------------------------------------------\n",
      "Intercept     -7.7698      2.581     -3.011      0.006       -13.122    -2.417\n",
      "TEP           -0.0772      0.005    -15.811      0.000        -0.087    -0.067\n",
      "GDP_log        1.9558      0.417      4.688      0.000         1.091     2.821\n",
      "==============================================================================\n",
      "Omnibus:                       13.570   Durbin-Watson:                   0.448\n",
      "Prob(Omnibus):                  0.001   Jarque-Bera (JB):                2.475\n",
      "Skew:                          -0.035   Prob(JB):                        0.290\n",
      "Kurtosis:                       1.460   Cond. No.                     2.10e+03\n",
      "==============================================================================\n",
      "\n",
      "Warnings:\n",
      "[1] Standard Errors assume that the covariance matrix of the errors is correctly specified.\n",
      "[2] The condition number is large, 2.1e+03. This might indicate that there are\n",
      "strong multicollinearity or other numerical problems.\n"
     ]
    }
   ],
   "source": [
    "result = sm.ols(formula=\"DEP_log ~ TEP + GDP_log\", data=df2).fit()\n",
    "print result.params\n",
    "print result.summary()"
   ]
  },
  {
   "cell_type": "markdown",
   "metadata": {},
   "source": [
    "何れも調整済み決定係数は十分大きく、係数の信頼性もあり，F値によってβ=0が仮説が棄却されている。TEPが下がるとDEPは上がり、GDP上がるとDEPも上がることが分かる。"
   ]
  },
  {
   "cell_type": "markdown",
   "metadata": {},
   "source": [
    "（９）以上により、進学・志願に影響する要因を考察し，時系列分析をまとめる。"
   ]
  },
  {
   "cell_type": "markdown",
   "metadata": {},
   "source": [
    "短大進学は大学進学に対する下級材であり、GDPの増加ともに短大需要は下がり、大学進学の需要に転換されるということが、回帰分析の結果から推察できる。GDPに関しては振れ幅が大きく信用しにくいが、ためしに作ったGDP_hatともGDPで得られた結果と似た結果を示しているので信用して良いと考えられる。"
   ]
  }
 ],
 "metadata": {
  "kernelspec": {
   "display_name": "Python 2",
   "language": "python",
   "name": "python2"
  },
  "language_info": {
   "codemirror_mode": {
    "name": "ipython",
    "version": 2
   },
   "file_extension": ".py",
   "mimetype": "text/x-python",
   "name": "python",
   "nbconvert_exporter": "python",
   "pygments_lexer": "ipython2",
   "version": "2.7.10"
  }
 },
 "nbformat": 4,
 "nbformat_minor": 0
}
